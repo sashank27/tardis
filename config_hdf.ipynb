{
 "cells": [
  {
   "cell_type": "code",
   "execution_count": 1,
   "metadata": {},
   "outputs": [
    {
     "name": "stderr",
     "output_type": "stream",
     "text": [
      "/Users/sashmish/anaconda3/envs/tardis/lib/python3.6/importlib/_bootstrap.py:219: QAWarning: pyne.data is not yet QA compliant.\n",
      "  return f(*args, **kwds)\n"
     ]
    }
   ],
   "source": [
    "from tardis.io.config_reader import Configuration"
   ]
  },
  {
   "cell_type": "code",
   "execution_count": 2,
   "metadata": {},
   "outputs": [],
   "source": [
    "config_fname = 'tardis_example.yml'\n",
    "config = Configuration.from_yaml(config_fname)"
   ]
  },
  {
   "cell_type": "code",
   "execution_count": 3,
   "metadata": {},
   "outputs": [
    {
     "name": "stdout",
     "output_type": "stream",
     "text": [
      "[\u001b[1mpy.warnings         \u001b[0m][\u001b[1;33mWARNING\u001b[0m]  /Users/sashmish/anaconda3/envs/tardis/lib/python3.6/site-packages/pandas/core/generic.py:2377: PerformanceWarning: \n",
      "your performance may suffer as PyTables will pickle object types that it cannot\n",
      "map directly to c-types [inferred_type->mixed,key->block0_values] [items->['density', 'type', 'velocity']]\n",
      "\n",
      "  return pytables.to_hdf(path_or_buf, key, self, **kwargs)\n",
      " (\u001b[1mwarnings.py\u001b[0m:99)\n"
     ]
    }
   ],
   "source": [
    "config.to_hdf('config.hdf')"
   ]
  },
  {
   "cell_type": "code",
   "execution_count": 4,
   "metadata": {},
   "outputs": [
    {
     "name": "stdout",
     "output_type": "stream",
     "text": [
      "Key: config_data.hdf\n",
      "abundances : <HDF5 group \"/config_data.hdf/abundances\" (6 members)>\n",
      "structure : <HDF5 group \"/config_data.hdf/structure\" (4 members)>\n",
      "\n",
      "Key: configuration\n",
      "abundances : <HDF5 group \"/configuration/abundances\" (6 members)>\n",
      "model : <HDF5 group \"/configuration/model\" (4 members)>\n",
      "montecarlo : <HDF5 group \"/configuration/montecarlo\" (10 members)>\n",
      "plasma : <HDF5 group \"/configuration/plasma\" (8 members)>\n",
      "scalars : <HDF5 group \"/configuration/scalars\" (2 members)>\n",
      "spectrum : <HDF5 group \"/configuration/spectrum\" (6 members)>\n",
      "structure : <HDF5 group \"/configuration/structure\" (4 members)>\n",
      "supernova : <HDF5 group \"/configuration/supernova\" (4 members)>\n",
      "\n"
     ]
    }
   ],
   "source": [
    "import h5py\n",
    "filename = \"config.hdf\"\n",
    "\n",
    "with h5py.File(filename, \"r\") as f:\n",
    "    for key in f.keys():\n",
    "        print('Key: {}'.format(key))\n",
    "        for group in f[key]:\n",
    "            print('{} : {}'.format(group,f[key][group]))\n",
    "        print()"
   ]
  }
 ],
 "metadata": {
  "kernelspec": {
   "display_name": "Python 3",
   "language": "python",
   "name": "python3"
  },
  "language_info": {
   "codemirror_mode": {
    "name": "ipython",
    "version": 3
   },
   "file_extension": ".py",
   "mimetype": "text/x-python",
   "name": "python",
   "nbconvert_exporter": "python",
   "pygments_lexer": "ipython3",
   "version": "3.6.7"
  }
 },
 "nbformat": 4,
 "nbformat_minor": 4
}
